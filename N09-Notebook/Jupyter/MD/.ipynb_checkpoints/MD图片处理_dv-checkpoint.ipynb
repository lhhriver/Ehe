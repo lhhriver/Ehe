{
 "cells": [
  {
   "cell_type": "code",
   "execution_count": 1,
   "metadata": {},
   "outputs": [],
   "source": [
    "import os \n",
    "import shutil\n",
    "import time\n",
    "import datetime"
   ]
  },
  {
   "cell_type": "code",
   "execution_count": 3,
   "metadata": {},
   "outputs": [],
   "source": [
    "# 笔记本改成D：\n",
    "# path_md = r\"D:\\Gitee\\ICEhe\\N01-DigitalCircuit\" # 待处理文件夹\n",
    "# path_md = r\"D:\\Gitee\\ICEhe\\N02-Verilog\" # 待处理文件夹\n",
    "# path_md = r\"D:\\Gitee\\ICEhe\\N03-SystemVerilog\" # 待处理文件夹\n",
    "# path_md = r\"D:\\Gitee\\ICEhe\\N04-UVM\" # 待处理文件夹\n",
    "# path_md = r\"D:\\Gitee\\ICEhe\\N05-EDA\" # 待处理文件夹\n",
    "\n",
    "path_file_one = r\"\"  # 单个文件,全路径\n",
    "floor = 100000 # 限定处理层数\n",
    "\n",
    "# Home\n",
    "path_images = r\"D:\\Gitee\\ICP\" # 目标图片文件夹\n",
    "path_md_new = r\"D:\\Gitee\\ICEhe\\N06-Blog\\ICB\"\n",
    "K = 15\n",
    "\n",
    "# Work\n",
    "# path_images = r\"C:\\LocalSpace\\Gitee\\ICP\" # 目标图片文件夹\n",
    "# path_md_new = r\"C:\\LocalSpace\\Gitee\\ICEhe\\N06-Blog\\ICB\"\n",
    "# K = 26"
   ]
  },
  {
   "cell_type": "code",
   "execution_count": null,
   "metadata": {},
   "outputs": [],
   "source": []
  },
  {
   "cell_type": "code",
   "execution_count": 37,
   "metadata": {},
   "outputs": [
    {
     "name": "stdout",
     "output_type": "stream",
     "text": [
      "D:\\Gitee\\ICEhe\\N06-Blog\\ICB\\N05-EDA\\N01-EDA工具VCS基础.md\n",
      "D:\\Gitee\\ICEhe\\N06-Blog\\ICB\\N05-EDA\\N02-EDA工具Verdi基础.md\n"
     ]
    }
   ],
   "source": [
    "if path_file_one:\n",
    "    path_md = os.path.dirname(path_file_one)\n",
    "    floor = 1\n",
    "\n",
    "# 修改图片插入信息\n",
    "F = 0\n",
    "for root, dirs, files in os.walk(path_md):\n",
    "    # 限定处理层数\n",
    "    F += 1\n",
    "    if F > floor:\n",
    "        break\n",
    "\n",
    "    if os.path.basename(root) not in ['.ipynb_checkpoints', 'images'] and os.path.basename(os.path.dirname(root)) not in [\"images\"]:\n",
    "        for file in files:\n",
    "            if os.path.splitext(file)[-1] == \".md\" and file.startswith(\"N\"):\n",
    "                # 处理单篇文章\n",
    "                if path_file_one:\n",
    "                    if file != os.path.basename(path_file_one):\n",
    "                        continue\n",
    "\n",
    "                file_path = os.path.join(root, file)\n",
    "\n",
    "                img_dir_sm = \"/\".join([li[:3] for li in file_path[K:].split(\"\\\\\")])\n",
    "                img_dir = os.path.join(os.path.dirname(os.path.join(path_images, img_dir_sm)) , file[:3])\n",
    "\n",
    "                # 新建图片文件夹\n",
    "                if not os.path.exists(img_dir):\n",
    "                    os.makedirs(img_dir)\n",
    "                else:\n",
    "                    shutil.rmtree(img_dir)\n",
    "                    os.makedirs(img_dir)\n",
    "\n",
    "                string_all = open(file_path, 'r', encoding='utf-8').readlines()\n",
    "\n",
    "                for i in range(len(string_all)):\n",
    "                    if 'images' in string_all[i] and 'liuhuihe' not in string_all[i] and \"http\" not in string_all[i]:\n",
    "                        tmp_str = string_all[i]\n",
    "                        \n",
    "                        # 统一格式\n",
    "                        if \"]\" in tmp_str:\n",
    "                            N1, N2 = tmp_str.find(\"![\"), tmp_str.find(\")\")\n",
    "                            obg_str = tmp_str[N1:N2 + 1]\n",
    "                            N = obg_str.find(\"images/\") + 7\n",
    "                            images_name = obg_str[N:-1]\n",
    "                            tmp_str = tmp_str[:N1] + \"![](images/\" + images_name + \")\" + tmp_str[N2 + 1:]\n",
    "                        elif \"<\" in tmp_str:\n",
    "                            N1, N2 = tmp_str.find(\"<\"), tmp_str.find(\">\")\n",
    "                            obg_str = tmp_str[N1:N2 + 1].replace('\"', \" \")\n",
    "                            N = obg_str.find(\"images/\") + 7\n",
    "                            images_name = obg_str[N:obg_str.find(\" \", N)]\n",
    "                            tmp_str = tmp_str[:N1] + \"![](images/\" + images_name + \")\" + tmp_str[N2 + 1:]\n",
    "                            \n",
    "                        # 新图片名\n",
    "                        time.sleep(0.001)\n",
    "                        image_name_icp = \"ICP-\" + datetime.datetime.now().strftime(\"%Y%m%d-%H%M%S-%f\") + os.path.splitext(images_name)[-1]\n",
    "                        images_name_new = os.path.join(img_dir, image_name_icp)\n",
    "                        images_name_url = 'https://gitee.com/liuhuihe/icp/raw/master/' + img_dir_sm + \"/\" + image_name_icp\n",
    "                        \n",
    "                        # 复制图片到指定文件夹，并重新命名\n",
    "                        shutil.copyfile(os.path.join(root, \"images\", images_name), images_name_new)\n",
    "                        \n",
    "                        # 更新该行内容\n",
    "                        tmp_str_new = tmp_str[:N1] + \"![](\" + images_name_url + \")\" + tmp_str[N2 + 1:]\n",
    "                        string_all[i] = tmp_str_new\n",
    "\n",
    "                        #print(tmp_str, tmp_str_new)\n",
    "                \n",
    "                path_md_out = os.path.join(path_md_new, file_path[K:])\n",
    "                if not os.path.exists(os.path.dirname(path_md_out)):\n",
    "                    os.makedirs(os.path.dirname(path_md_out))\n",
    "                \n",
    "                print(path_md_out)\n",
    "                open(path_md_out, 'w', encoding='utf-8').writelines(string_all)"
   ]
  },
  {
   "cell_type": "code",
   "execution_count": null,
   "metadata": {},
   "outputs": [],
   "source": []
  },
  {
   "cell_type": "code",
   "execution_count": null,
   "metadata": {},
   "outputs": [],
   "source": []
  },
  {
   "cell_type": "code",
   "execution_count": null,
   "metadata": {},
   "outputs": [],
   "source": []
  }
 ],
 "metadata": {
  "kernelspec": {
   "display_name": "Python 3",
   "language": "python",
   "name": "python3"
  },
  "language_info": {
   "codemirror_mode": {
    "name": "ipython",
    "version": 3
   },
   "file_extension": ".py",
   "mimetype": "text/x-python",
   "name": "python",
   "nbconvert_exporter": "python",
   "pygments_lexer": "ipython3",
   "version": "3.6.5"
  },
  "toc": {
   "base_numbering": 1,
   "nav_menu": {},
   "number_sections": true,
   "sideBar": true,
   "skip_h1_title": false,
   "title_cell": "Table of Contents",
   "title_sidebar": "Contents",
   "toc_cell": false,
   "toc_position": {
    "height": "calc(100% - 180px)",
    "left": "10px",
    "top": "150px",
    "width": "307.188px"
   },
   "toc_section_display": true,
   "toc_window_display": false
  },
  "varInspector": {
   "cols": {
    "lenName": 16,
    "lenType": 16,
    "lenVar": 40
   },
   "kernels_config": {
    "python": {
     "delete_cmd_postfix": "",
     "delete_cmd_prefix": "del ",
     "library": "var_list.py",
     "varRefreshCmd": "print(var_dic_list())"
    },
    "r": {
     "delete_cmd_postfix": ") ",
     "delete_cmd_prefix": "rm(",
     "library": "var_list.r",
     "varRefreshCmd": "cat(var_dic_list()) "
    }
   },
   "types_to_exclude": [
    "module",
    "function",
    "builtin_function_or_method",
    "instance",
    "_Feature"
   ],
   "window_display": false
  }
 },
 "nbformat": 4,
 "nbformat_minor": 2
}
