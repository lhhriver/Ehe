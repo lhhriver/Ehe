{
 "cells": [
  {
   "cell_type": "code",
   "execution_count": 3,
   "id": "5cc1a744",
   "metadata": {},
   "outputs": [],
   "source": [
    "import akshare as ak\n",
    "import numpy as np\n",
    "import pandas as pd\n",
    "from datetime import datetime\n",
    "import matplotlib.pyplot as plt\n",
    "import mplfinance as mpf\n",
    "from pylab import mpl\n",
    "mpl.rcParams['font.sans-serif'] = ['SimHei']  # 设置中文字体为微软雅\n",
    "plt.rcParams['font.sans-serif'] = ['SimHei']        # 字体设置\n",
    "import matplotlib\n",
    "matplotlib.rcParams['axes.unicode_minus']=False    # 负号显示问题"
   ]
  },
  {
   "cell_type": "code",
   "execution_count": 4,
   "id": "d068055a",
   "metadata": {},
   "outputs": [
    {
     "data": {
      "text/plain": [
       "'中药'"
      ]
     },
     "execution_count": 4,
     "metadata": {},
     "output_type": "execute_result"
    }
   ],
   "source": [
    "#获取最大涨幅板块\n",
    "ind = ak.stock_board_industry_name_em()\n",
    "bk = ind.sort_values('涨跌幅',ascending=False)['板块名称'][0]\n",
    "bk"
   ]
  },
  {
   "cell_type": "code",
   "execution_count": 5,
   "id": "1367092f",
   "metadata": {},
   "outputs": [],
   "source": [
    "#获取板块中涨停个股：\n",
    "\n",
    "end =datetime.now().strftime('%Y%m%d')\n",
    "stock_zt_pool_em_df = ak.stock_zt_pool_em(date=end)\n",
    "stock_pool= stock_zt_pool_em_df[(stock_zt_pool_em_df['所属行业']==bk)]"
   ]
  },
  {
   "cell_type": "code",
   "execution_count": 6,
   "id": "d1cdcdcd",
   "metadata": {},
   "outputs": [
    {
     "name": "stderr",
     "output_type": "stream",
     "text": [
      "                                                                                                                       \r"
     ]
    }
   ],
   "source": [
    "stock_hot_rank_wc_df = ak.stock_hot_rank_wc(date=end)\n",
    "stock_hot_rank_wc_df.rename(columns= {'股票代码':'代码'},inplace=True)\n",
    "stock_hot_rank_wc_df = stock_hot_rank_wc_df[(stock_hot_rank_wc_df['代码']==stock_pool.iloc[0,1])]\n",
    "stock_pool = pd.merge(stock_pool,stock_hot_rank_wc_df,on='代码')"
   ]
  },
  {
   "cell_type": "code",
   "execution_count": 7,
   "id": "97e74c73",
   "metadata": {},
   "outputs": [
    {
     "name": "stdout",
     "output_type": "stream",
     "text": [
      "002728\n"
     ]
    },
    {
     "data": {
      "image/png": "[encoded data removed]",
      "text/plain": [
       "<Figure size 576x414 with 4 Axes>"
      ]
     },
     "metadata": {
      "needs_background": "light"
     },
     "output_type": "display_data"
    }
   ],
   "source": [
    "for i in range(len(stock_pool['代码'])):\n",
    "    end =datetime.now().strftime('%Y%m%d')\n",
    "    code= str(stock_pool['代码'].values[i])\n",
    "    data =  ak.stock_zh_a_hist(symbol=code, period=\"daily\", start_date=\"19900301\", end_date=end, adjust=\"\")\n",
    "    data['日期'] = pd.to_datetime(data['日期'], format='%Y-%m-%d')\n",
    "    data.rename(columns= {'日期':'date','开盘':'open','最高':'high','最低':'low','收盘':'close','成交量':'volume'},inplace=True)\n",
    "    data['code'] = code\n",
    "    data = data[['date','open','close','high','low','volume','code']]\n",
    "    data['max'] = data['high'].rolling(20).max()\n",
    "    data['volume_20m'] = data['volume'].rolling(20).mean()\n",
    "    data['volume_5m'] = data['volume'].rolling(5).mean()\n",
    "    data = data[(data['high']>=data['max'])&(data['volume']>data['volume_20m'])&(int((str(stock_pool['个股热度排名'].values).split('/'))[0][2:])<50)]\n",
    "    data = data.set_index(data.date)\n",
    "    data = data[['open','close','high','low','volume','code']]\n",
    "    print(code)\n",
    "    mpf.plot(data[-10:],type='candle',volume=True)"
   ]
  },
  {
   "cell_type": "code",
   "execution_count": null,
   "id": "4358d3ba",
   "metadata": {},
   "outputs": [],
   "source": []
  },
  {
   "cell_type": "code",
   "execution_count": null,
   "id": "e6cdd3eb",
   "metadata": {},
   "outputs": [],
   "source": []
  },
  {
   "cell_type": "code",
   "execution_count": null,
   "id": "e67180a9",
   "metadata": {},
   "outputs": [],
   "source": []
  },
  {
   "cell_type": "code",
   "execution_count": null,
   "id": "f39cf94b",
   "metadata": {},
   "outputs": [],
   "source": []
  }
 ],
 "metadata": {
  "kernelspec": {
   "display_name": "Python 3",
   "language": "python",
   "name": "python3"
  },
  "language_info": {
   "codemirror_mode": {
    "name": "ipython",
    "version": 3
   },
   "file_extension": ".py",
   "mimetype": "text/x-python",
   "name": "python",
   "nbconvert_exporter": "python",
   "pygments_lexer": "ipython3",
   "version": "3.8.3"
  },
  "toc": {
   "base_numbering": 1,
   "nav_menu": {},
   "number_sections": true,
   "sideBar": true,
   "skip_h1_title": false,
   "title_cell": "Table of Contents",
   "title_sidebar": "Contents",
   "toc_cell": false,
   "toc_position": {},
   "toc_section_display": true,
   "toc_window_display": false
  }
 },
 "nbformat": 4,
 "nbformat_minor": 5
}
