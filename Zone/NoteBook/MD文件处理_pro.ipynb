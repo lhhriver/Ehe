{
 "cells": [
  {
   "cell_type": "code",
   "execution_count": 19,
   "metadata": {},
   "outputs": [],
   "source": [
    "import os \n",
    "import shutil\n",
    "import time\n",
    "import datetime"
   ]
  },
  {
   "cell_type": "markdown",
   "metadata": {},
   "source": [
    "# 文件夹整体迁移"
   ]
  },
  {
   "cell_type": "code",
   "execution_count": 20,
   "metadata": {},
   "outputs": [],
   "source": [
    "# path = r\"D:\\Gitee\\NLP\" \n",
    "# path = r\"D:\\Gitee\\March\\ML\" \n",
    "# path = r\"D:\\Gitee\\March\\DL\" \n",
    "# path = r\"D:\\Gitee\\March\\Python\" \n",
    "# path = r\"D:\\Gitee\\March\\Base\" \n",
    "# path = r\"D:\\Gitee\\March\\Math\" \n",
    "# path = r\"D:\\Gitee\\March\\DA\\数据分析笔记\" \n",
    "# path = r\"D:\\Gitee\\March\\Java\\Java_Basic_Introduction\" \n",
    "\n",
    "path = r\"D:\\Gitee\\DDU\\NLP\"\n",
    "path_images = r\"D:\\Gitee\\Ehe\\images\" # 目标图片文件夹"
   ]
  },
  {
   "cell_type": "markdown",
   "metadata": {},
   "source": [
    "## 读取图片改名信息"
   ]
  },
  {
   "cell_type": "code",
   "execution_count": 21,
   "metadata": {},
   "outputs": [],
   "source": [
    "import json\n",
    "file_json = r'images_dt.json'\n",
    "with open(file_json, 'r', encoding='utf-8') as f:\n",
    "    images_dt = json.load(f)"
   ]
  },
  {
   "cell_type": "code",
   "execution_count": 22,
   "metadata": {},
   "outputs": [],
   "source": [
    "# images_dt"
   ]
  },
  {
   "cell_type": "markdown",
   "metadata": {},
   "source": [
    "## 生成图片改名信息及迁移"
   ]
  },
  {
   "cell_type": "code",
   "execution_count": 23,
   "metadata": {},
   "outputs": [
    {
     "name": "stdout",
     "output_type": "stream",
     "text": [
      ">>>  D:\\Gitee\\DDU\\NLP\\词向量\\images image-20210911091113010.png\n"
     ]
    }
   ],
   "source": [
    "for root, dirs, files in os.walk(path):\n",
    "    images_dt.setdefault(root, {})  # 文件夹路径\n",
    "\n",
    "    if os.path.basename(root) == 'images':\n",
    "        for file in files:\n",
    "            time.sleep(0.001)  # 防止图片重名\n",
    "            # 图片文件夹\n",
    "            if file not in images_dt[os.path.dirname(root)]:\n",
    "                print(\">>> \", root, file)\n",
    "                # 目标图片名\n",
    "                image_name = os.path.basename(\n",
    "                    os.path.dirname(root)) + \"-\" + datetime.datetime.now(\n",
    "                    ).strftime(\"%Y%m%d-%H%M%S-%f\") + os.path.splitext(file)[-1]\n",
    "                \n",
    "                images_dt[os.path.dirname(root)][file] = image_name  # 保存图片改名信息\n",
    "\n",
    "                # 复制图片到指定文件夹，并重新命名\n",
    "                shutil.copyfile(os.path.join(root, file),\n",
    "                                os.path.join(path_images, image_name))\n",
    "                \n",
    "images_dt = {k: v for k, v in images_dt.items() if v}\n",
    "# images_dt"
   ]
  },
  {
   "cell_type": "code",
   "execution_count": 24,
   "metadata": {},
   "outputs": [],
   "source": [
    "# for key in images_dt.keys():\n",
    "#     print('\\n',key,\">>>\")\n",
    "#     for k, v in images_dt[key].items():\n",
    "#         print(\"\\t\", k,'-->', v)"
   ]
  },
  {
   "cell_type": "markdown",
   "metadata": {},
   "source": [
    "## MD文件迁移"
   ]
  },
  {
   "cell_type": "code",
   "execution_count": 25,
   "metadata": {},
   "outputs": [],
   "source": [
    "# 复制md文件\n",
    "\n",
    "# for root, dirs, files in os.walk(path):\n",
    "#     root_new = root.replace(path, path_obj) # 目标文件夹路径\n",
    "\n",
    "#     for file in files:\n",
    "#         # MD文件\n",
    "#         if os.path.splitext(file)[-1] == \".md\" and file not in ['_contents.md']:\n",
    "#             if not os.path.exists(root_new): \n",
    "#                 # 新建目标文件夹\n",
    "#                 os.makedirs(root_new)\n",
    "                \n",
    "#             print(os.path.join(root, file), '>>>', os.path.join(root_new, file))\n",
    "#             shutil.copyfile(os.path.join(root, file), os.path.join(root_new, file))"
   ]
  },
  {
   "cell_type": "markdown",
   "metadata": {},
   "source": [
    "## 修改图片插入来源"
   ]
  },
  {
   "cell_type": "code",
   "execution_count": 26,
   "metadata": {},
   "outputs": [],
   "source": [
    "# 修改图片插入信息\n",
    "for root, dirs, files in os.walk(path):\n",
    "    if os.path.basename(root) not in ['.ipynb_checkpoints']:\n",
    "        for file in files:\n",
    "            if os.path.splitext(file)[-1] == \".md\":\n",
    "                file_path = os.path.join(root, file)\n",
    "\n",
    "                string_all = open(file_path, 'r', encoding='utf-8').readlines()\n",
    "\n",
    "                for i in range(len(string_all)):\n",
    "                    if 'images' in string_all[\n",
    "                            i] and 'liuhuihe' not in string_all[i]:\n",
    "                        tmp_str = string_all[i]\n",
    "                        \n",
    "                        if \"]\" in tmp_str:\n",
    "                            N1, N2 = tmp_str.find(\"![\"), tmp_str.find(\")\")\n",
    "                            obg_str = tmp_str[N1:N2 + 1]\n",
    "                            N = obg_str.find(\"images/\") + 7\n",
    "                            images_name = obg_str[N:-1]\n",
    "                            tmp_str = tmp_str[:\n",
    "                                              N1] + \"![](images/\" + images_name + \")\" + tmp_str[\n",
    "                                                  N2 + 1:]\n",
    "\n",
    "                        if \"<\" in tmp_str:\n",
    "                            N1, N2 = tmp_str.find(\"<\"), tmp_str.find(\">\")\n",
    "                            obg_str = tmp_str[N1:N2 + 1].replace('\"', \" \")\n",
    "                            N = obg_str.find(\"images/\") + 7\n",
    "                            images_name = obg_str[N:obg_str.find(\" \", N)]\n",
    "                            tmp_str = tmp_str[:\n",
    "                                              N1] + \"![](images/\" + images_name + \")\" + tmp_str[\n",
    "                                                  N2 + 1:]\n",
    "\n",
    "                        try:\n",
    "                            if images_name in images_dt[root]:\n",
    "                                # 替换图片名\n",
    "                                tmp_str = tmp_str.replace(\n",
    "                                    images_name, images_dt[root][images_name])\n",
    "                                # 替换图片来源\n",
    "                                tmp_str = tmp_str.replace(\n",
    "                                    './images', 'images'\n",
    "                                ).replace(\n",
    "                                    'images/',\n",
    "                                    'https://gitee.com/liuhuihe/Ehe/raw/master/images/'\n",
    "                                )\n",
    "                                string_all[i] = tmp_str\n",
    "                        except Exception as e:\n",
    "                            print(e)\n",
    "                            print(root, file)\n",
    "                            print(\">>>\", tmp_str)\n",
    "\n",
    "                open(file_path, 'w', encoding='utf-8').writelines(string_all)"
   ]
  },
  {
   "cell_type": "markdown",
   "metadata": {},
   "source": [
    "## 图片改名信息存入本地"
   ]
  },
  {
   "cell_type": "code",
   "execution_count": 27,
   "metadata": {
    "lines_to_next_cell": 0
   },
   "outputs": [],
   "source": [
    "import json\n",
    "\n",
    "images_js = json.dumps(images_dt, indent=4)\n",
    "with open(file_json, 'w', encoding='utf-8') as f:\n",
    "    f.write(images_js)"
   ]
  },
  {
   "cell_type": "code",
   "execution_count": null,
   "metadata": {
    "lines_to_next_cell": 2
   },
   "outputs": [],
   "source": []
  }
 ],
 "metadata": {
  "jupytext": {
   "encoding": "# -*- coding: utf-8 -*-",
   "formats": "ipynb,py:light"
  },
  "kernelspec": {
   "display_name": "Python 3",
   "language": "python",
   "name": "python3"
  },
  "language_info": {
   "codemirror_mode": {
    "name": "ipython",
    "version": 3
   },
   "file_extension": ".py",
   "mimetype": "text/x-python",
   "name": "python",
   "nbconvert_exporter": "python",
   "pygments_lexer": "ipython3",
   "version": "3.6.5"
  },
  "toc": {
   "base_numbering": 1,
   "nav_menu": {},
   "number_sections": true,
   "sideBar": true,
   "skip_h1_title": false,
   "title_cell": "Table of Contents",
   "title_sidebar": "Contents",
   "toc_cell": false,
   "toc_position": {
    "height": "calc(100% - 180px)",
    "left": "10px",
    "top": "150px",
    "width": "307.2px"
   },
   "toc_section_display": true,
   "toc_window_display": true
  },
  "varInspector": {
   "cols": {
    "lenName": 16,
    "lenType": 16,
    "lenVar": 40
   },
   "kernels_config": {
    "python": {
     "delete_cmd_postfix": "",
     "delete_cmd_prefix": "del ",
     "library": "var_list.py",
     "varRefreshCmd": "print(var_dic_list())"
    },
    "r": {
     "delete_cmd_postfix": ") ",
     "delete_cmd_prefix": "rm(",
     "library": "var_list.r",
     "varRefreshCmd": "cat(var_dic_list()) "
    }
   },
   "types_to_exclude": [
    "module",
    "function",
    "builtin_function_or_method",
    "instance",
    "_Feature"
   ],
   "window_display": false
  }
 },
 "nbformat": 4,
 "nbformat_minor": 2
}
